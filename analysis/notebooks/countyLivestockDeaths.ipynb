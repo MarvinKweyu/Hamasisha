{
 "cells": [
  {
   "cell_type": "code",
   "execution_count": 2,
   "metadata": {},
   "outputs": [
    {
     "data": {
      "text/plain": [
       "count    50.000000\n",
       "mean     10.786000\n",
       "std       7.619979\n",
       "min       0.000000\n",
       "25%       5.525000\n",
       "50%       7.950000\n",
       "75%      12.950000\n",
       "max      32.300000\n",
       "Name: Livestock died, dtype: float64"
      ]
     },
     "execution_count": 2,
     "metadata": {},
     "output_type": "execute_result"
    }
   ],
   "source": [
    "# bokeh basics\n",
    "from bokeh.plotting import figure\n",
    "from bokeh.io import show, output_notebook\n",
    "\n",
    "#import panda\n",
    "import pandas as pd\n",
    "\n",
    "#read data\n",
    "county = pd.read_csv(\"KIHBS_data.csv\", index_col=0)\n",
    "county[\"Livestock died\"].describe()"
   ]
  },
  {
   "cell_type": "code",
   "execution_count": 3,
   "metadata": {},
   "outputs": [
    {
     "data": {
      "text/html": [
       "<div>\n",
       "<style scoped>\n",
       "    .dataframe tbody tr th:only-of-type {\n",
       "        vertical-align: middle;\n",
       "    }\n",
       "\n",
       "    .dataframe tbody tr th {\n",
       "        vertical-align: top;\n",
       "    }\n",
       "\n",
       "    .dataframe thead th {\n",
       "        text-align: right;\n",
       "    }\n",
       "</style>\n",
       "<table border=\"1\" class=\"dataframe\">\n",
       "  <thead>\n",
       "    <tr style=\"text-align: right;\">\n",
       "      <th></th>\n",
       "      <th>deaths</th>\n",
       "      <th>left</th>\n",
       "      <th>right</th>\n",
       "      <th>f_count</th>\n",
       "      <th>f_interval</th>\n",
       "    </tr>\n",
       "  </thead>\n",
       "  <tbody>\n",
       "    <tr>\n",
       "      <th>0</th>\n",
       "      <td>1</td>\n",
       "      <td>0.0</td>\n",
       "      <td>2.0</td>\n",
       "      <td>1 counties</td>\n",
       "      <td>0 to 2 deaths</td>\n",
       "    </tr>\n",
       "    <tr>\n",
       "      <th>1</th>\n",
       "      <td>4</td>\n",
       "      <td>2.0</td>\n",
       "      <td>4.0</td>\n",
       "      <td>4 counties</td>\n",
       "      <td>2 to 4 deaths</td>\n",
       "    </tr>\n",
       "    <tr>\n",
       "      <th>2</th>\n",
       "      <td>11</td>\n",
       "      <td>4.0</td>\n",
       "      <td>6.0</td>\n",
       "      <td>11 counties</td>\n",
       "      <td>4 to 6 deaths</td>\n",
       "    </tr>\n",
       "    <tr>\n",
       "      <th>3</th>\n",
       "      <td>9</td>\n",
       "      <td>6.0</td>\n",
       "      <td>8.0</td>\n",
       "      <td>9 counties</td>\n",
       "      <td>6 to 8 deaths</td>\n",
       "    </tr>\n",
       "    <tr>\n",
       "      <th>4</th>\n",
       "      <td>6</td>\n",
       "      <td>8.0</td>\n",
       "      <td>10.0</td>\n",
       "      <td>6 counties</td>\n",
       "      <td>8 to 10 deaths</td>\n",
       "    </tr>\n",
       "  </tbody>\n",
       "</table>\n",
       "</div>"
      ],
      "text/plain": [
       "   deaths  left  right      f_count      f_interval\n",
       "0       1   0.0    2.0   1 counties   0 to 2 deaths\n",
       "1       4   2.0    4.0   4 counties   2 to 4 deaths\n",
       "2      11   4.0    6.0  11 counties   4 to 6 deaths\n",
       "3       9   6.0    8.0   9 counties   6 to 8 deaths\n",
       "4       6   8.0   10.0   6 counties  8 to 10 deaths"
      ]
     },
     "execution_count": 3,
     "metadata": {},
     "output_type": "execute_result"
    }
   ],
   "source": [
    "import numpy as np\n",
    "\n",
    "\"\"\"Bins will be 2 animals in width, so the number of bins \n",
    "is (length of interval / 2). Limit animals to [0, 2] using the range.\"\"\"\n",
    "\n",
    "arr_hist, edges = np.histogram(county[\"Livestock died\"], \n",
    "                               bins = int(34/2), \n",
    "                               range = [0, 34])\n",
    "# Put the information in a dataframe\n",
    "delays = pd.DataFrame({'deaths': arr_hist, \n",
    "                       'left': edges[:-1], \n",
    "                       'right': edges[1:]})\n",
    "\n",
    "delays['f_count'] = ['%d counties' % death for death in delays['deaths']]\n",
    "delays['f_interval'] = ['%d to %d deaths' % (left, right) for left, right in zip(delays['left'], delays['right'])]\n",
    "delays.head()"
   ]
  },
  {
   "cell_type": "code",
   "execution_count": 4,
   "metadata": {},
   "outputs": [],
   "source": [
    "# Import the ColumnDataSource class\n",
    "from bokeh.models import ColumnDataSource\n",
    "\n",
    "# Convert dataframe to column data source\n",
    "src = ColumnDataSource(delays)"
   ]
  },
  {
   "cell_type": "code",
   "execution_count": 5,
   "metadata": {},
   "outputs": [],
   "source": [
    "def style(p):\n",
    "\t\t# Title \n",
    "\t\tp.title.align = 'center'\n",
    "\t\tp.title.text_font_size = '20pt'\n",
    "\t\tp.title.text_font = 'serif'\n",
    "\n",
    "\t\t# Axis titles\n",
    "\t\tp.xaxis.axis_label_text_font_size = '14pt'\n",
    "\t\tp.xaxis.axis_label_text_font_style = 'bold'\n",
    "\t\tp.yaxis.axis_label_text_font_size = '14pt'\n",
    "\t\tp.yaxis.axis_label_text_font_style = 'bold'\n",
    "\n",
    "\t\t# Tick labels\n",
    "\t\tp.xaxis.major_label_text_font_size = '12pt'\n",
    "\t\tp.yaxis.major_label_text_font_size = '12pt'\n",
    "\n",
    "\t\treturn p"
   ]
  },
  {
   "cell_type": "code",
   "execution_count": 6,
   "metadata": {},
   "outputs": [],
   "source": [
    "from bokeh.models import HoverTool\n",
    "\n",
    "# Hover tool referring to our own data field using @ and\n",
    "# a position on the graph using $\n",
    "h = HoverTool(tooltips = [('Deaths ', '@left'),\n",
    "                          ('(x,y)', '($x, $y)')])\n",
    "\n",
    "# # Create the blank plot\n",
    "p = figure(plot_height = 600, plot_width = 600, \n",
    "           title = 'Livestock deaths per county',\n",
    "          x_axis_label = 'Number of deaths', \n",
    "           y_axis_label = 'Number of counties')\n",
    "\n",
    "# # Add a quad glyph with source this time\n",
    "p.quad(bottom=0, top='deaths', left='left', right='right', source=src,\n",
    "       fill_color='red', line_color='black', fill_alpha = 0.75,\n",
    "       hover_fill_alpha = 1.0, hover_fill_color = 'navy')\n",
    "\n",
    "\n",
    "# Add a hover tool referring to the formatted columns\n",
    "hover = HoverTool(tooltips = [('Deaths', '@f_interval'),\n",
    "                             ('Counties', '@f_count')])\n",
    "\n",
    "# Style the plot\n",
    "p = style(p)\n",
    "\n",
    "# Add the hover tool to the graph\n",
    "p.add_tools(hover)\n",
    "\n",
    "# Show the plot\n",
    "# show(p)"
   ]
  },
  {
   "cell_type": "code",
   "execution_count": 7,
   "metadata": {},
   "outputs": [
    {
     "data": {
      "text/plain": [
       "'My template is awesome!'"
      ]
     },
     "execution_count": 7,
     "metadata": {},
     "output_type": "execute_result"
    }
   ],
   "source": [
    "#NOT USED, EXPERIMENTING WITH JINJA\n",
    "import jinja2\n",
    "from jinja2 import Template\n",
    "\n",
    "myTemplate = Template(\"My template is {{ something }}!\")\n",
    "myTemplate.render(something=\"awesome\")"
   ]
  },
  {
   "cell_type": "code",
   "execution_count": 11,
   "metadata": {},
   "outputs": [
    {
     "name": "stdout",
     "output_type": "stream",
     "text": [
      "\n",
      "<script type=\"text/javascript\">\n",
      "  (function() {\n",
      "    var fn = function() {\n",
      "      Bokeh.safely(function() {\n",
      "        (function(root) {\n",
      "          function embed_document(root) {\n",
      "            \n",
      "          var docs_json = '{\"427ec88b-e638-491d-ad9a-a5d72aba45cd\":{\"roots\":{\"references\":[{\"attributes\":{},\"id\":\"1024\",\"type\":\"PanTool\"},{\"attributes\":{\"axis_label\":\"Number of deaths\",\"axis_label_text_font_size\":{\"value\":\"14pt\"},\"axis_label_text_font_style\":\"bold\",\"formatter\":{\"id\":\"1048\",\"type\":\"BasicTickFormatter\"},\"major_label_text_font_size\":{\"value\":\"12pt\"},\"plot\":{\"id\":\"1004\",\"subtype\":\"Figure\",\"type\":\"Plot\"},\"ticker\":{\"id\":\"1015\",\"type\":\"BasicTicker\"}},\"id\":\"1014\",\"type\":\"LinearAxis\"},{\"attributes\":{\"bottom\":{\"value\":0},\"fill_alpha\":{\"value\":0.1},\"fill_color\":{\"value\":\"#1f77b4\"},\"left\":{\"field\":\"left\"},\"line_alpha\":{\"value\":0.1},\"line_color\":{\"value\":\"#1f77b4\"},\"right\":{\"field\":\"right\"},\"top\":{\"field\":\"deaths\"}},\"id\":\"1041\",\"type\":\"Quad\"},{\"attributes\":{\"bottom\":{\"value\":0},\"fill_color\":{\"value\":\"navy\"},\"left\":{\"field\":\"left\"},\"line_color\":{\"value\":\"#1f77b4\"},\"right\":{\"field\":\"right\"},\"top\":{\"field\":\"deaths\"}},\"id\":\"1042\",\"type\":\"Quad\"},{\"attributes\":{\"bottom_units\":\"screen\",\"fill_alpha\":{\"value\":0.5},\"fill_color\":{\"value\":\"lightgrey\"},\"left_units\":\"screen\",\"level\":\"overlay\",\"line_alpha\":{\"value\":1.0},\"line_color\":{\"value\":\"black\"},\"line_dash\":[4,4],\"line_width\":{\"value\":2},\"plot\":null,\"render_mode\":\"css\",\"right_units\":\"screen\",\"top_units\":\"screen\"},\"id\":\"1032\",\"type\":\"BoxAnnotation\"},{\"attributes\":{},\"id\":\"1025\",\"type\":\"WheelZoomTool\"},{\"attributes\":{},\"id\":\"1015\",\"type\":\"BasicTicker\"},{\"attributes\":{},\"id\":\"1054\",\"type\":\"Selection\"},{\"attributes\":{\"overlay\":{\"id\":\"1032\",\"type\":\"BoxAnnotation\"}},\"id\":\"1026\",\"type\":\"BoxZoomTool\"},{\"attributes\":{\"source\":{\"id\":\"1001\",\"type\":\"ColumnDataSource\"}},\"id\":\"1044\",\"type\":\"CDSView\"},{\"attributes\":{\"plot\":{\"id\":\"1004\",\"subtype\":\"Figure\",\"type\":\"Plot\"},\"ticker\":{\"id\":\"1015\",\"type\":\"BasicTicker\"}},\"id\":\"1018\",\"type\":\"Grid\"},{\"attributes\":{\"below\":[{\"id\":\"1014\",\"type\":\"LinearAxis\"}],\"left\":[{\"id\":\"1019\",\"type\":\"LinearAxis\"}],\"renderers\":[{\"id\":\"1014\",\"type\":\"LinearAxis\"},{\"id\":\"1018\",\"type\":\"Grid\"},{\"id\":\"1019\",\"type\":\"LinearAxis\"},{\"id\":\"1023\",\"type\":\"Grid\"},{\"id\":\"1032\",\"type\":\"BoxAnnotation\"},{\"id\":\"1043\",\"type\":\"GlyphRenderer\"}],\"title\":{\"id\":\"1003\",\"type\":\"Title\"},\"toolbar\":{\"id\":\"1030\",\"type\":\"Toolbar\"},\"x_range\":{\"id\":\"1006\",\"type\":\"DataRange1d\"},\"x_scale\":{\"id\":\"1010\",\"type\":\"LinearScale\"},\"y_range\":{\"id\":\"1008\",\"type\":\"DataRange1d\"},\"y_scale\":{\"id\":\"1012\",\"type\":\"LinearScale\"}},\"id\":\"1004\",\"subtype\":\"Figure\",\"type\":\"Plot\"},{\"attributes\":{},\"id\":\"1027\",\"type\":\"SaveTool\"},{\"attributes\":{\"bottom\":{\"value\":0},\"fill_alpha\":{\"value\":0.75},\"fill_color\":{\"value\":\"red\"},\"left\":{\"field\":\"left\"},\"right\":{\"field\":\"right\"},\"top\":{\"field\":\"deaths\"}},\"id\":\"1040\",\"type\":\"Quad\"},{\"attributes\":{\"callback\":null,\"data\":{\"deaths\":[1,4,11,9,6,3,4,0,1,1,5,1,2,1,0,0,1],\"f_count\":[\"1 counties\",\"4 counties\",\"11 counties\",\"9 counties\",\"6 counties\",\"3 counties\",\"4 counties\",\"0 counties\",\"1 counties\",\"1 counties\",\"5 counties\",\"1 counties\",\"2 counties\",\"1 counties\",\"0 counties\",\"0 counties\",\"1 counties\"],\"f_interval\":[\"0 to 2 deaths\",\"2 to 4 deaths\",\"4 to 6 deaths\",\"6 to 8 deaths\",\"8 to 10 deaths\",\"10 to 12 deaths\",\"12 to 14 deaths\",\"14 to 16 deaths\",\"16 to 18 deaths\",\"18 to 20 deaths\",\"20 to 22 deaths\",\"22 to 24 deaths\",\"24 to 26 deaths\",\"26 to 28 deaths\",\"28 to 30 deaths\",\"30 to 32 deaths\",\"32 to 34 deaths\"],\"index\":[0,1,2,3,4,5,6,7,8,9,10,11,12,13,14,15,16],\"left\":{\"__ndarray__\":\"AAAAAAAAAAAAAAAAAAAAQAAAAAAAABBAAAAAAAAAGEAAAAAAAAAgQAAAAAAAACRAAAAAAAAAKEAAAAAAAAAsQAAAAAAAADBAAAAAAAAAMkAAAAAAAAA0QAAAAAAAADZAAAAAAAAAOEAAAAAAAAA6QAAAAAAAADxAAAAAAAAAPkAAAAAAAABAQA==\",\"dtype\":\"float64\",\"shape\":[17]},\"right\":{\"__ndarray__\":\"AAAAAAAAAEAAAAAAAAAQQAAAAAAAABhAAAAAAAAAIEAAAAAAAAAkQAAAAAAAAChAAAAAAAAALEAAAAAAAAAwQAAAAAAAADJAAAAAAAAANEAAAAAAAAA2QAAAAAAAADhAAAAAAAAAOkAAAAAAAAA8QAAAAAAAAD5AAAAAAAAAQEAAAAAAAABBQA==\",\"dtype\":\"float64\",\"shape\":[17]}},\"selected\":{\"id\":\"1054\",\"type\":\"Selection\"},\"selection_policy\":{\"id\":\"1053\",\"type\":\"UnionRenderers\"}},\"id\":\"1001\",\"type\":\"ColumnDataSource\"},{\"attributes\":{\"axis_label\":\"Number of counties\",\"axis_label_text_font_size\":{\"value\":\"14pt\"},\"axis_label_text_font_style\":\"bold\",\"formatter\":{\"id\":\"1050\",\"type\":\"BasicTickFormatter\"},\"major_label_text_font_size\":{\"value\":\"12pt\"},\"plot\":{\"id\":\"1004\",\"subtype\":\"Figure\",\"type\":\"Plot\"},\"ticker\":{\"id\":\"1020\",\"type\":\"BasicTicker\"}},\"id\":\"1019\",\"type\":\"LinearAxis\"},{\"attributes\":{\"align\":\"center\",\"plot\":null,\"text\":\"Livestock deaths per county\",\"text_font\":\"serif\",\"text_font_size\":{\"value\":\"20pt\"}},\"id\":\"1003\",\"type\":\"Title\"},{\"attributes\":{\"callback\":null},\"id\":\"1006\",\"type\":\"DataRange1d\"},{\"attributes\":{\"active_drag\":\"auto\",\"active_inspect\":\"auto\",\"active_multi\":null,\"active_scroll\":\"auto\",\"active_tap\":\"auto\",\"tools\":[{\"id\":\"1024\",\"type\":\"PanTool\"},{\"id\":\"1025\",\"type\":\"WheelZoomTool\"},{\"id\":\"1026\",\"type\":\"BoxZoomTool\"},{\"id\":\"1027\",\"type\":\"SaveTool\"},{\"id\":\"1028\",\"type\":\"ResetTool\"},{\"id\":\"1029\",\"type\":\"HelpTool\"},{\"id\":\"1045\",\"type\":\"HoverTool\"}]},\"id\":\"1030\",\"type\":\"Toolbar\"},{\"attributes\":{},\"id\":\"1048\",\"type\":\"BasicTickFormatter\"},{\"attributes\":{},\"id\":\"1020\",\"type\":\"BasicTicker\"},{\"attributes\":{\"callback\":null},\"id\":\"1008\",\"type\":\"DataRange1d\"},{\"attributes\":{\"data_source\":{\"id\":\"1001\",\"type\":\"ColumnDataSource\"},\"glyph\":{\"id\":\"1040\",\"type\":\"Quad\"},\"hover_glyph\":{\"id\":\"1042\",\"type\":\"Quad\"},\"muted_glyph\":null,\"nonselection_glyph\":{\"id\":\"1041\",\"type\":\"Quad\"},\"selection_glyph\":null,\"view\":{\"id\":\"1044\",\"type\":\"CDSView\"}},\"id\":\"1043\",\"type\":\"GlyphRenderer\"},{\"attributes\":{\"dimension\":1,\"plot\":{\"id\":\"1004\",\"subtype\":\"Figure\",\"type\":\"Plot\"},\"ticker\":{\"id\":\"1020\",\"type\":\"BasicTicker\"}},\"id\":\"1023\",\"type\":\"Grid\"},{\"attributes\":{},\"id\":\"1053\",\"type\":\"UnionRenderers\"},{\"attributes\":{},\"id\":\"1050\",\"type\":\"BasicTickFormatter\"},{\"attributes\":{},\"id\":\"1010\",\"type\":\"LinearScale\"},{\"attributes\":{},\"id\":\"1028\",\"type\":\"ResetTool\"},{\"attributes\":{},\"id\":\"1012\",\"type\":\"LinearScale\"},{\"attributes\":{\"callback\":null,\"tooltips\":[[\"Deaths\",\"@f_interval\"],[\"Counties\",\"@f_count\"]]},\"id\":\"1045\",\"type\":\"HoverTool\"},{\"attributes\":{},\"id\":\"1029\",\"type\":\"HelpTool\"}],\"root_ids\":[\"1004\"]},\"title\":\"Bokeh Application\",\"version\":\"1.0.4\"}}';\n",
      "          var render_items = [{\"docid\":\"427ec88b-e638-491d-ad9a-a5d72aba45cd\",\"roots\":{\"1004\":\"7846b09b-9309-4a68-8474-76380ca385dc\"}}];\n",
      "          root.Bokeh.embed.embed_items(docs_json, render_items);\n",
      "        \n",
      "          }\n",
      "          if (root.Bokeh !== undefined) {\n",
      "            embed_document(root);\n",
      "          } else {\n",
      "            var attempts = 0;\n",
      "            var timer = setInterval(function(root) {\n",
      "              if (root.Bokeh !== undefined) {\n",
      "                embed_document(root);\n",
      "                clearInterval(timer);\n",
      "              }\n",
      "              attempts++;\n",
      "              if (attempts > 100) {\n",
      "                console.log(\"Bokeh: ERROR: Unable to run BokehJS code because BokehJS library is missing\");\n",
      "                clearInterval(timer);\n",
      "              }\n",
      "            }, 10, root)\n",
      "          }\n",
      "        })(window);\n",
      "      });\n",
      "    };\n",
      "    if (document.readyState != \"loading\") fn();\n",
      "    else document.addEventListener(\"DOMContentLoaded\", fn);\n",
      "  })();\n",
      "</script>\n",
      "\n",
      "<div class=\"bk-root\" id=\"7846b09b-9309-4a68-8474-76380ca385dc\" data-root-id=\"1004\"></div>\n"
     ]
    }
   ],
   "source": [
    "#use bokeh.components to generate div and script to paste in html document\n",
    "from bokeh.embed import components\n",
    "\n",
    "plot_script, plot_div = components(p)\n",
    "\n",
    "print(plot_script)\n",
    "print(plot_div)"
   ]
  },
  {
   "cell_type": "code",
   "execution_count": null,
   "metadata": {},
   "outputs": [],
   "source": []
  },
  {
   "cell_type": "code",
   "execution_count": null,
   "metadata": {},
   "outputs": [],
   "source": []
  }
 ],
 "metadata": {
  "kernelspec": {
   "display_name": "Python 3",
   "language": "python",
   "name": "python3"
  },
  "language_info": {
   "codemirror_mode": {
    "name": "ipython",
    "version": 3
   },
   "file_extension": ".py",
   "mimetype": "text/x-python",
   "name": "python",
   "nbconvert_exporter": "python",
   "pygments_lexer": "ipython3",
   "version": "3.7.3"
  }
 },
 "nbformat": 4,
 "nbformat_minor": 2
}
